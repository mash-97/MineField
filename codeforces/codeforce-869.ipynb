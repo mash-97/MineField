{
 "cells": [
  {
   "cell_type": "markdown",
   "id": "caec9649",
   "metadata": {},
   "source": [
    "# Codeforces Round 859 (Div. 4)\n",
    "[round-869](https://codeforces.com/contest/1807)\n"
   ]
  },
  {
   "cell_type": "markdown",
   "id": "055505bf",
   "metadata": {},
   "source": [
    "## A: Plus or Minus"
   ]
  },
  {
   "cell_type": "code",
   "execution_count": 1,
   "id": "7aa3982d",
   "metadata": {},
   "outputs": [
    {
     "name": "stdin",
     "output_type": "stream",
     "text": [
      " 1\n",
      " 2 3 2\n"
     ]
    },
    {
     "name": "stdout",
     "output_type": "stream",
     "text": [
      "-\n"
     ]
    }
   ],
   "source": [
    "t = int(input())\n",
    "for _ in range(t):\n",
    "    a, b, c = list(map(lambda x: int(x), input().strip().split(' ')))\n",
    "    if(a+b==c):\n",
    "        print('+')\n",
    "    else:\n",
    "        print('-')\n"
   ]
  },
  {
   "cell_type": "markdown",
   "id": "cddc8797",
   "metadata": {},
   "source": [
    "## B: Grab the Candies"
   ]
  },
  {
   "cell_type": "code",
   "execution_count": 4,
   "id": "6ce9b0c8",
   "metadata": {
    "scrolled": true
   },
   "outputs": [
    {
     "name": "stdout",
     "output_type": "stream",
     "text": [
      "1\n",
      "4\n",
      "1 2 3 4\n",
      "6 4\n"
     ]
    }
   ],
   "source": [
    "t = int(input())\n",
    "for _ in range(t):\n",
    "    n = int(input())\n",
    "    e,o = [0,0]\n",
    "    x = list(map(lambda x: int(x), input().strip().split(' ')))\n",
    "    for _ in x:\n",
    "        if((_&1)==0):\n",
    "            e += _\n",
    "        else:\n",
    "            o += _\n",
    "    if(e>0):\n",
    "        print('yes')\n",
    "    else:\n",
    "        print('no')\n"
   ]
  },
  {
   "cell_type": "markdown",
   "id": "0580bbb1",
   "metadata": {},
   "source": [
    "A problem concerning even, odds and some sequence of numbers doesn't mean the sequence have to be an alternating sequence."
   ]
  },
  {
   "cell_type": "markdown",
   "id": "915d6749",
   "metadata": {},
   "source": [
    "## C: Find and Replace"
   ]
  },
  {
   "cell_type": "markdown",
   "id": "eb88668e",
   "metadata": {},
   "source": [
    "abacaba\n",
    "0101010\n",
    "1010101\n",
    "\n",
    "codeforces\n",
    "0101010010\n",
    "1010101101\n",
    "\n",
    "testcase\n",
    "01001001\n",
    "10110110\n",
    "\n"
   ]
  },
  {
   "cell_type": "markdown",
   "id": "e3b4cbb5",
   "metadata": {},
   "source": [
    "suppose we assign the first character with 0 and we replace all of it's recurrence with 0.\n",
    "now the second character is either the same character or any other differenct character.\n",
    "  if it's the same character then we end with invalid verdict.\n",
    "  else it is ofcourse a different character and we assign all of it's recurrence with 1.\n",
    "now the third character has three possibilities it's either the same as the first character or same as the second character  or any other different character.\n",
    "  among them the second case is invalid.\n",
    "  if the case conforms the first character it's valid and we move on the next character\n",
    "  if the case conforms the third case we can ofcourse assign it's all occurences with 0 as the last one was 1\n",
    "now for the fourth character the possibilities stand to utmost 4, it's either the first, second, third, or any other different character.\n",
    "  among them the first and third options are invalid\n",
    "  for second case we skip to the next\n",
    "  for last case we assign 1\n",
    "and it goes like this until it reaches the end."
   ]
  },
  {
   "cell_type": "code",
   "execution_count": 20,
   "id": "716a73d0",
   "metadata": {},
   "outputs": [
    {
     "name": "stdout",
     "output_type": "stream",
     "text": [
      "8\n",
      "7\n",
      "abacaba\n",
      "yes\n",
      "2\n",
      "aa\n",
      "no\n",
      "1\n",
      "y\n",
      "yes\n",
      "4\n",
      "bkpt\n",
      "yes\n",
      "6\n",
      "ninfia\n",
      "no\n",
      "6\n",
      "banana\n",
      "yes\n",
      "10\n",
      "codeforces\n",
      "no\n",
      "8\n",
      "testcase\n",
      "no\n"
     ]
    }
   ],
   "source": [
    "t = int(input())\n",
    "for _ in range(t):\n",
    "    n = int(input())\n",
    "    s = input().strip()\n",
    "    ds = dict()\n",
    "    for _ in s:\n",
    "      ds[_] = None \n",
    "    \n",
    "    pb = True\n",
    "    ds[s[0]] = False\n",
    "    v = True\n",
    "    for _ in s:\n",
    "        if ds[_]!=None:\n",
    "            if ds[_]==pb:\n",
    "                v = False\n",
    "                break\n",
    "        else:\n",
    "            ds[_] = not pb\n",
    "        pb = not pb\n",
    "    \n",
    "    if v:\n",
    "        print('yes')\n",
    "    else:\n",
    "        print('no')\n",
    "    \n",
    "            "
   ]
  },
  {
   "cell_type": "markdown",
   "id": "f7fe4859",
   "metadata": {},
   "source": [
    "## D: Odd Queries"
   ]
  },
  {
   "cell_type": "markdown",
   "id": "35c20d75",
   "metadata": {},
   "source": [
    "a->  2 2 1 3 2\n",
    "sa-> 2 4 5 8 10\n",
    "q-> 2 3 3\n",
    "    2 3 3 3 2\n",
    "    1: 2\n",
    "    5-3: 10-5 = 5\n",
    "    7 + 3*2 = 13"
   ]
  },
  {
   "cell_type": "code",
   "execution_count": null,
   "id": "8a1bd0c5",
   "metadata": {},
   "outputs": [],
   "source": [
    "2\n",
    "5 5\n",
    "2 2 1 3 2\n",
    "2 3 3\n",
    "2 3 4\n",
    "1 5 5\n",
    "1 4 9\n",
    "2 4 3\n",
    "10 5\n",
    "1 1 1 1 1 1 1 1 1 1\n",
    "3 8 13\n",
    "2 5 10\n",
    "3 8 10\n",
    "1 10 2\n",
    "1 9 100"
   ]
  },
  {
   "cell_type": "code",
   "execution_count": 32,
   "id": "18e8afcb",
   "metadata": {
    "scrolled": true
   },
   "outputs": [
    {
     "name": "stdout",
     "output_type": "stream",
     "text": [
      "2\n",
      "5 5\n",
      "2 2 1 3 2\n",
      "2 3 3\n",
      "YES\n",
      "2 3 4\n",
      "YES\n",
      "1 5 5\n",
      "YES\n",
      "1 4 9\n",
      "NO\n",
      "2 4 3\n",
      "YES\n",
      "10 5\n",
      "1 1 1 1 1 1 1 1 1 1\n",
      "3 8 13\n",
      "NO\n",
      "2 5 10\n",
      "NO\n",
      "3 8 10\n",
      "NO\n",
      "1 10 2\n",
      "NO\n",
      "1 9 100\n",
      "YES\n"
     ]
    }
   ],
   "source": [
    "t = int(input())\n",
    "for _ in range(t):\n",
    "    n, q = list(map(lambda x: int(x), input().strip().split(' ')))\n",
    "    numbers = list(map(lambda x: int(x), input().strip().split(' ')))\n",
    "    qs = [numbers[0]]\n",
    "    for _ in range(1, n):\n",
    "        qs.append(qs[_-1]+numbers[_])\n",
    "    \n",
    "    for _ in range(q):\n",
    "        l, r, k = list(map(lambda x: int(x), input().strip().split(' ')))\n",
    "        \n",
    "        # 0-indx\n",
    "        l -= 1\n",
    "        r -= 1\n",
    "        # left side sum\n",
    "        ls = 0\n",
    "        if l>0:\n",
    "            ls = qs[l-1]\n",
    "        # right side sum\n",
    "        rs = 0\n",
    "        if r<n-1:\n",
    "            rs = qs[n-1]-qs[r]\n",
    "        \n",
    "        ts = ls+k*(r-l+1)+rs\n",
    "        \n",
    "        if(ts&1==0):\n",
    "            print('NO')\n",
    "        else:\n",
    "            print('YES')\n"
   ]
  },
  {
   "cell_type": "markdown",
   "id": "f390d133",
   "metadata": {},
   "source": [
    "## E: Interview"
   ]
  },
  {
   "cell_type": "markdown",
   "id": "f9e6f39d",
   "metadata": {},
   "source": [
    "0 1 2 3 4 5\n",
    "m => 2\n",
    "l = 0\n",
    "r = 5\n",
    "l+(r-l)//2\n",
    "\n",
    "m => 2\n",
    "l = 0\n",
    "r = 4\n",
    "l+(r-l)//2\n",
    "\n",
    "m => 1\n",
    "l = 0\n",
    "r = 3\n",
    "l+(r-l)//2\n",
    "\n",
    "m => 3\n",
    "l = 1\n",
    "r = 5\n",
    "l+(r-l)//2\n",
    "1+(5-1)//2\n",
    "1+4//2\n",
    "1+2\n",
    "3"
   ]
  },
  {
   "cell_type": "markdown",
   "id": "65c5ac11",
   "metadata": {},
   "source": [
    "| |0|1|2|3|4|\n",
    "|---|---|---|---|---|---|\n",
    "|v|1|2|3|4|5|\n",
    "|qs|1|3|6|10|15|"
   ]
  },
  {
   "cell_type": "code",
   "execution_count": 51,
   "id": "9ad08005",
   "metadata": {},
   "outputs": [
    {
     "name": "stdout",
     "output_type": "stream",
     "text": [
      "1\n",
      "5\n",
      "1 2 3 4 5\n",
      "? 3 1 2 3\n",
      "7\n",
      "? 2 1 2\n",
      "4\n",
      "? 1 1\n",
      "1\n",
      "! 2\n"
     ]
    }
   ],
   "source": [
    "import sys\n",
    "\n",
    "sys.stdin.flush()\n",
    "t = int(input())\n",
    "\n",
    "for _ in range(t):\n",
    "    \n",
    "    sys.stdin.flush()\n",
    "    n = int(input())\n",
    "    \n",
    "    sys.stdin.flush()\n",
    "    a = list(map(lambda x: int(x), input().strip().split(' ')))\n",
    "    \n",
    "    ts = sum(a)\n",
    "    qs = [a[0]]\n",
    "    for _ in range(1, n):\n",
    "        qs.append(qs[_-1]+a[_]) \n",
    "    \n",
    "    # print(f\"qs: {qs}\")\n",
    "    \n",
    "    l = 0\n",
    "    r = n-1\n",
    "    while l!=r:\n",
    "        mid = l+(r-l)//2\n",
    "        # print(f\"l: {l}, r: {r}, mid: {mid}\")\n",
    "        \n",
    "        indxs = [str(_) for _ in range(l+1, mid+2)]\n",
    "        \n",
    "        sys.stdout.flush()\n",
    "        print(f\"? {len(indxs)} {' '.join(indxs)}\")\n",
    "        \n",
    "        sys.stdin.flush()\n",
    "        qr = int(input())\n",
    "        \n",
    "        tqs = qs[mid]\n",
    "        if l>0:\n",
    "            tqs -= qs[l-1]\n",
    "        \n",
    "        # print(f\"tqs: {tqs}\")\n",
    "        \n",
    "        if qr > tqs:\n",
    "            r = mid\n",
    "        else:\n",
    "            l = mid+1\n",
    "    print(f\"! {l+1}\")\n"
   ]
  },
  {
   "cell_type": "code",
   "execution_count": null,
   "id": "9ef970d5",
   "metadata": {},
   "outputs": [],
   "source": [
    "2\n",
    "15\n",
    "5 12 1 7 9 14 2 15 5 2 4 17 16 12 2\n",
    "? 8 1 2 3 4 5 6 7 8\n",
    "66\n",
    "? 4 1 2 3 4\n",
    "25\n",
    "? 2 5 6\n",
    "24\n",
    "! 5"
   ]
  },
  {
   "cell_type": "markdown",
   "id": "0eb2f3a2",
   "metadata": {},
   "source": [
    "## F: Bouncy Ball"
   ]
  },
  {
   "cell_type": "code",
   "execution_count": 3,
   "id": "c2c15d22",
   "metadata": {},
   "outputs": [
    {
     "name": "stdout",
     "output_type": "stream",
     "text": [
      "1\n",
      "1 1\n",
      "1 1\n",
      "1 1\n",
      "check if p2: (1, 1) is on the line between p1: (1, 1) and p3: (1, 1)\n",
      "True\n",
      "\n"
     ]
    }
   ],
   "source": [
    "class P:\n",
    "    def __init__(self, i, j):\n",
    "        self.i = i\n",
    "        self.j = j\n",
    "    \n",
    "    def __eq__(self, p):\n",
    "        return (self.i==p.i) and (self.j==p.j)\n",
    "\n",
    "# is the point p on the line created by p1 and p2\n",
    "def is_on_the_line(p, p1, p2):\n",
    "    p = P(p[0], p[1])\n",
    "    p1 = P(p1[0], p1[1])\n",
    "    p2 = P(p2[0], p2[1])\n",
    "    \n",
    "    if p==p1 or p==p2: return True\n",
    "    \n",
    "    # if the point is inbetween\n",
    "    if (p1.i < p.i < p2.i) and (p1.j < p.j < p2.j):\n",
    "        y = (p.j-p1.j) / (p2.j-p1.j)\n",
    "        x = (p.i-p1.i) / (p2.i-p1.i)\n",
    "        \n",
    "        return abs(y-x) < 0.000001\n",
    "    return False\n",
    "\n",
    "t = int(input())\n",
    "for _ in range(t):\n",
    "    p1 = tuple(list(map(lambda x: int(x), input().strip().split(' '))))\n",
    "    p2 = tuple(list(map(lambda x: int(x), input().strip().split(' '))))\n",
    "    p3 = tuple(list(map(lambda x: int(x), input().strip().split(' '))))\n",
    "    \n",
    "    print(f\"check if p2: {p2} is on the line between p1: {p1} and p3: {p3}\")\n",
    "    print(is_on_the_line(p2, p1, p3))\n",
    "    print()\n"
   ]
  },
  {
   "cell_type": "code",
   "execution_count": 14,
   "id": "ac5efb0d",
   "metadata": {},
   "outputs": [
    {
     "name": "stdout",
     "output_type": "stream",
     "text": [
      "1\n",
      "5 7 1 7 2 4 DL\n",
      "3\n"
     ]
    }
   ],
   "source": [
    "def bounce(position, direction, n, m):\n",
    "    P = [None, None]\n",
    "    D = [None, None]\n",
    "    \n",
    "    pi, pj = [None, None]\n",
    "    \n",
    "    if direction[0]=='D':\n",
    "        pi = n-position[0]\n",
    "    else: # direction[0] => 'U'\n",
    "        pi = position[0]-1\n",
    "    \n",
    "    if direction[1]=='R':\n",
    "        pj = m-position[1]\n",
    "    else: # direction[1] => 'L'\n",
    "        pj = position[1]-1\n",
    "        \n",
    "    ms = min(pi, pj)\n",
    "    \n",
    "    if direction[0]=='D':\n",
    "        P[0] = position[0]+ms\n",
    "        D[0] = 'U'\n",
    "        if P[0]<n:\n",
    "            D[0] = 'D'\n",
    "    else:\n",
    "        P[0] = position[0]-ms\n",
    "        D[0] = 'D'\n",
    "        if P[0]>1:\n",
    "            D[0] = 'U'\n",
    "    \n",
    "    if direction[1]=='R':\n",
    "        P[1] = position[1]+ms\n",
    "        D[1] = 'L'\n",
    "        if P[1]<m:\n",
    "            D[1] = 'R'\n",
    "    else:\n",
    "        P[1] = position[1]-ms\n",
    "        D[1] = 'R'\n",
    "        if P[1]>1:\n",
    "            D[1] = 'L'\n",
    "    \n",
    "    return (tuple(P), tuple(D), ms)\n",
    "\n",
    "\n",
    "\n",
    "def target_matches(target_position, current_position, current_direction, next_position, minimal_steps):\n",
    "    if(target_position==current_position):\n",
    "        return False\n",
    "    if(target_position==next_position):\n",
    "        return True\n",
    "    if(current_position==next_position):\n",
    "        return False\n",
    "    \n",
    "    if current_direction == ('D', 'R'):\n",
    "        return ((target_position[0]-current_position[0] == target_position[1]-current_position[1]) and \n",
    "                (target_position[0]-current_position[0]) <= minimal_steps) and (target_position[0]-current_position[0]) > 0\n",
    "    if current_direction == ('D', 'L'):\n",
    "        return ((target_position[0]-current_position[0] == current_position[1]-target_position[1]) and \n",
    "                (target_position[0]-current_position[0]) <= minimal_steps) and (target_position[0]-current_position[0]) > 0\n",
    "    if current_direction == ('U', 'R'):\n",
    "        return ((current_position[0]-target_position[0] == target_position[1]-current_position[1]) and \n",
    "                (current_position[0]-target_position[0]) <= minimal_steps) and (current_position[0]-target_position[0]) > 0\n",
    "    if current_direction == ('U', 'L'):\n",
    "        return ((current_position[0]-target_position[0] == current_position[1]-target_position[1]) and \n",
    "                (current_position[0]-target_position[0]) <= minimal_steps) and (current_position[0]-target_position[0]) > 0\n",
    "    return False\n",
    "\n",
    "\n",
    "t = int(input())\n",
    "for _ in range(t):\n",
    "    query = input().strip().split(' ')\n",
    "    n, m, i1, j1, i2, j2 = list(map(lambda x: int(x), query[:-1]))\n",
    "    \n",
    "    target_position = (i2, j2) # target position\n",
    "    current_position = (i1, j1) # current postion\n",
    "    current_direction = tuple([_ for _ in query[-1]][:2])\n",
    "    bounce_history = {\n",
    "        current_position: current_direction\n",
    "    } # bounce history P => D\n",
    "    \n",
    "    \n",
    "    count_bounce = 0\n",
    "    \n",
    "    if target_position==current_position:\n",
    "        print(count_bounce)\n",
    "        continue\n",
    "    \n",
    "    while True:\n",
    "        # print(f\"{current_position} => {current_direction}\")\n",
    "        \n",
    "        next_position, next_direction, minimal_steps = bounce(\n",
    "            current_position, \n",
    "            current_direction, \n",
    "            n, \n",
    "            m\n",
    "        )\n",
    "        \n",
    "        \n",
    "        if target_matches(target_position, current_position, current_direction, next_position, minimal_steps):\n",
    "            break\n",
    "        \n",
    "        \n",
    "        count_bounce += 1\n",
    "        if next_position in bounce_history.keys():\n",
    "            if next_direction == bounce_history[next_position]:\n",
    "                count_bounce = -1\n",
    "                break\n",
    "        else:\n",
    "            bounce_history[next_position] = next_direction\n",
    "        \n",
    "        current_position = next_position\n",
    "        current_direction = next_direction\n",
    "        \n",
    "    print(count_bounce)\n",
    "    # print(bounce_history)\n",
    "        "
   ]
  },
  {
   "cell_type": "markdown",
   "id": "c2ee1412",
   "metadata": {},
   "source": [
    "6\n",
    "5 7 1 7 2 4 DL\n",
    "5 7 1 7 3 2 DL\n",
    "3 3 1 3 2 2 UR\n",
    "2 4 2 1 2 2 DR\n",
    "4 3 1 1 1 3 UL\n",
    "6 4 1 2 3 4 DR\n",
    "\n",
    "3\n",
    "-1\n",
    "1\n",
    "-1\n",
    "4\n",
    "0"
   ]
  },
  {
   "cell_type": "markdown",
   "id": "fb8a36d9",
   "metadata": {},
   "source": [
    "# G: Subsequence Addition\n",
    "\n",
    "[problem statement](https://codeforces.com/contest/1807/problem/G1)"
   ]
  },
  {
   "cell_type": "code",
   "execution_count": 13,
   "id": "0a46328e",
   "metadata": {
    "jupyter": {
     "source_hidden": true
    },
    "tags": []
   },
   "outputs": [
    {
     "name": "stdout",
     "output_type": "stream",
     "text": [
      "6\n",
      "1\n",
      "1\n",
      "YES\n",
      "1\n",
      "2\n",
      "NO\n",
      "5\n",
      "5 1 3 2 1\n",
      "YES\n",
      "5\n",
      "7 1 5 2 1\n",
      "NO\n",
      "3\n",
      "1 1 1\n",
      "YES\n",
      "5\n",
      "1 1 4 2 1\n",
      "YES\n"
     ]
    }
   ],
   "source": [
    "t = int(input())\n",
    "for _ in range(t):\n",
    "    n = int(input())\n",
    "    c = list(map(lambda x: int(x), input().strip().split(' ')))\n",
    "    c = sorted(c)\n",
    "    v = True\n",
    "    if c[0]!=1:\n",
    "        print('NO')\n",
    "        continue\n",
    "    \n",
    "    ss = c[0]\n",
    "    for n in c[1:]:\n",
    "        if n<=ss:\n",
    "            ss += n\n",
    "        else:\n",
    "            v = False\n",
    "            break\n",
    "    if v:\n",
    "        print('YES')\n",
    "    else:\n",
    "        print('NO')\n"
   ]
  },
  {
   "cell_type": "code",
   "execution_count": 11,
   "id": "bb4190c8-5398-4637-a07e-19762b26a06b",
   "metadata": {
    "tags": []
   },
   "outputs": [
    {
     "name": "stdin",
     "output_type": "stream",
     "text": [
      " 6\n",
      " 5\n",
      " 5 1 3 2 1\n"
     ]
    },
    {
     "name": "stdout",
     "output_type": "stream",
     "text": [
      "c: [1, 1, 2, 3, 5]\n",
      "num: 1, c: [1]\n",
      "num: 2, c: [1, 1]\n",
      "num: 1, c: [1]\n",
      "num: 3, c: [1, 1, 2]\n",
      "num: 2, c: [1, 2]\n",
      "num: 5, c: [1, 1, 2, 3]\n",
      "num: 4, c: [1, 2, 3]\n",
      "num: 3, c: [2, 3]\n",
      "YES\n"
     ]
    },
    {
     "name": "stdin",
     "output_type": "stream",
     "text": [
      " 1\n",
      " 1\n"
     ]
    },
    {
     "name": "stdout",
     "output_type": "stream",
     "text": [
      "c: [1]\n",
      "YES\n"
     ]
    },
    {
     "name": "stdin",
     "output_type": "stream",
     "text": [
      " 1\n",
      " 2\n"
     ]
    },
    {
     "name": "stdout",
     "output_type": "stream",
     "text": [
      "NO\n"
     ]
    },
    {
     "name": "stdin",
     "output_type": "stream",
     "text": [
      " 55\n"
     ]
    },
    {
     "ename": "KeyboardInterrupt",
     "evalue": "Interrupted by user",
     "output_type": "error",
     "traceback": [
      "\u001b[1;31m---------------------------------------------------------------------------\u001b[0m",
      "\u001b[1;31mKeyboardInterrupt\u001b[0m                         Traceback (most recent call last)",
      "\u001b[1;32m~\\AppData\\Local\\Temp\\ipykernel_11332\\3750467777.py\u001b[0m in \u001b[0;36m<module>\u001b[1;34m\u001b[0m\n\u001b[0;32m     23\u001b[0m \u001b[1;32mfor\u001b[0m \u001b[0m_\u001b[0m \u001b[1;32min\u001b[0m \u001b[0mrange\u001b[0m\u001b[1;33m(\u001b[0m\u001b[0mt\u001b[0m\u001b[1;33m)\u001b[0m\u001b[1;33m:\u001b[0m\u001b[1;33m\u001b[0m\u001b[1;33m\u001b[0m\u001b[0m\n\u001b[0;32m     24\u001b[0m     \u001b[0mn\u001b[0m \u001b[1;33m=\u001b[0m \u001b[0mint\u001b[0m\u001b[1;33m(\u001b[0m\u001b[0minput\u001b[0m\u001b[1;33m(\u001b[0m\u001b[1;33m)\u001b[0m\u001b[1;33m)\u001b[0m\u001b[1;33m\u001b[0m\u001b[1;33m\u001b[0m\u001b[0m\n\u001b[1;32m---> 25\u001b[1;33m     \u001b[0mc\u001b[0m \u001b[1;33m=\u001b[0m \u001b[0mlist\u001b[0m\u001b[1;33m(\u001b[0m\u001b[0mmap\u001b[0m\u001b[1;33m(\u001b[0m\u001b[1;32mlambda\u001b[0m \u001b[0mx\u001b[0m\u001b[1;33m:\u001b[0m \u001b[0mint\u001b[0m\u001b[1;33m(\u001b[0m\u001b[0mx\u001b[0m\u001b[1;33m)\u001b[0m\u001b[1;33m,\u001b[0m \u001b[0minput\u001b[0m\u001b[1;33m(\u001b[0m\u001b[1;33m)\u001b[0m\u001b[1;33m.\u001b[0m\u001b[0mstrip\u001b[0m\u001b[1;33m(\u001b[0m\u001b[1;33m)\u001b[0m\u001b[1;33m.\u001b[0m\u001b[0msplit\u001b[0m\u001b[1;33m(\u001b[0m\u001b[1;34m' '\u001b[0m\u001b[1;33m)\u001b[0m\u001b[1;33m)\u001b[0m\u001b[1;33m)\u001b[0m\u001b[1;33m\u001b[0m\u001b[1;33m\u001b[0m\u001b[0m\n\u001b[0m\u001b[0;32m     26\u001b[0m     \u001b[0mc\u001b[0m \u001b[1;33m=\u001b[0m \u001b[0msorted\u001b[0m\u001b[1;33m(\u001b[0m\u001b[0mc\u001b[0m\u001b[1;33m)\u001b[0m\u001b[1;33m\u001b[0m\u001b[1;33m\u001b[0m\u001b[0m\n\u001b[0;32m     27\u001b[0m     \u001b[1;32mif\u001b[0m \u001b[0mc\u001b[0m\u001b[1;33m[\u001b[0m\u001b[1;36m0\u001b[0m\u001b[1;33m]\u001b[0m\u001b[1;33m!=\u001b[0m\u001b[1;36m1\u001b[0m\u001b[1;33m:\u001b[0m\u001b[1;33m\u001b[0m\u001b[1;33m\u001b[0m\u001b[0m\n",
      "\u001b[1;32m~\\anaconda3\\lib\\site-packages\\ipykernel\\kernelbase.py\u001b[0m in \u001b[0;36mraw_input\u001b[1;34m(self, prompt)\u001b[0m\n\u001b[0;32m   1175\u001b[0m                 \u001b[1;34m\"raw_input was called, but this frontend does not support input requests.\"\u001b[0m\u001b[1;33m\u001b[0m\u001b[1;33m\u001b[0m\u001b[0m\n\u001b[0;32m   1176\u001b[0m             )\n\u001b[1;32m-> 1177\u001b[1;33m         return self._input_request(\n\u001b[0m\u001b[0;32m   1178\u001b[0m             \u001b[0mstr\u001b[0m\u001b[1;33m(\u001b[0m\u001b[0mprompt\u001b[0m\u001b[1;33m)\u001b[0m\u001b[1;33m,\u001b[0m\u001b[1;33m\u001b[0m\u001b[1;33m\u001b[0m\u001b[0m\n\u001b[0;32m   1179\u001b[0m             \u001b[0mself\u001b[0m\u001b[1;33m.\u001b[0m\u001b[0m_parent_ident\u001b[0m\u001b[1;33m[\u001b[0m\u001b[1;34m\"shell\"\u001b[0m\u001b[1;33m]\u001b[0m\u001b[1;33m,\u001b[0m\u001b[1;33m\u001b[0m\u001b[1;33m\u001b[0m\u001b[0m\n",
      "\u001b[1;32m~\\anaconda3\\lib\\site-packages\\ipykernel\\kernelbase.py\u001b[0m in \u001b[0;36m_input_request\u001b[1;34m(self, prompt, ident, parent, password)\u001b[0m\n\u001b[0;32m   1217\u001b[0m             \u001b[1;32mexcept\u001b[0m \u001b[0mKeyboardInterrupt\u001b[0m\u001b[1;33m:\u001b[0m\u001b[1;33m\u001b[0m\u001b[1;33m\u001b[0m\u001b[0m\n\u001b[0;32m   1218\u001b[0m                 \u001b[1;31m# re-raise KeyboardInterrupt, to truncate traceback\u001b[0m\u001b[1;33m\u001b[0m\u001b[1;33m\u001b[0m\u001b[0m\n\u001b[1;32m-> 1219\u001b[1;33m                 \u001b[1;32mraise\u001b[0m \u001b[0mKeyboardInterrupt\u001b[0m\u001b[1;33m(\u001b[0m\u001b[1;34m\"Interrupted by user\"\u001b[0m\u001b[1;33m)\u001b[0m \u001b[1;32mfrom\u001b[0m \u001b[1;32mNone\u001b[0m\u001b[1;33m\u001b[0m\u001b[1;33m\u001b[0m\u001b[0m\n\u001b[0m\u001b[0;32m   1220\u001b[0m             \u001b[1;32mexcept\u001b[0m \u001b[0mException\u001b[0m\u001b[1;33m:\u001b[0m\u001b[1;33m\u001b[0m\u001b[1;33m\u001b[0m\u001b[0m\n\u001b[0;32m   1221\u001b[0m                 \u001b[0mself\u001b[0m\u001b[1;33m.\u001b[0m\u001b[0mlog\u001b[0m\u001b[1;33m.\u001b[0m\u001b[0mwarning\u001b[0m\u001b[1;33m(\u001b[0m\u001b[1;34m\"Invalid Message:\"\u001b[0m\u001b[1;33m,\u001b[0m \u001b[0mexc_info\u001b[0m\u001b[1;33m=\u001b[0m\u001b[1;32mTrue\u001b[0m\u001b[1;33m)\u001b[0m\u001b[1;33m\u001b[0m\u001b[1;33m\u001b[0m\u001b[0m\n",
      "\u001b[1;31mKeyboardInterrupt\u001b[0m: Interrupted by user"
     ]
    }
   ],
   "source": [
    "is_producalbe = set()\n",
    "\n",
    "def isProducable(num, c):\n",
    "    # print(f\"num: {num}, c: {c}\")\n",
    "    if num==0:\n",
    "        return True\n",
    "    if len(c)==0:\n",
    "        return False\n",
    "    if num<0: \n",
    "        return False\n",
    "    if num in is_producable and num in c:\n",
    "        return True\n",
    "    \n",
    "    for _ in c:\n",
    "        c.remove(_)\n",
    "        if(isProducable(num-_, c)):\n",
    "            return True\n",
    "        c.append(_)\n",
    "    return False\n",
    "\n",
    "\n",
    "t = int(input())\n",
    "for _ in range(t):\n",
    "    n = int(input())\n",
    "    c = list(map(lambda x: int(x), input().strip().split(' ')))\n",
    "    c = sorted(c)\n",
    "    if c[0]!=1:\n",
    "        print('NO')\n",
    "        continue\n",
    "    \n",
    "    # print(f'c: {c}')\n",
    "    is_producable = set([1])\n",
    "    \n",
    "    v = True\n",
    "    for indx, num in enumerate(c[1:]):\n",
    "        if(not isProducable(num, [1]+c[1:indx+1])):\n",
    "            v = False\n",
    "            break\n",
    "        is_producable.add(num)\n",
    "    \n",
    "    if(v):\n",
    "        print('YES')\n",
    "    else:\n",
    "        print('NO')\n",
    "\n",
    "        "
   ]
  },
  {
   "cell_type": "code",
   "execution_count": 4,
   "id": "14824837-06d9-4423-ad24-099114c435f1",
   "metadata": {
    "tags": []
   },
   "outputs": [
    {
     "name": "stdin",
     "output_type": "stream",
     "text": [
      " 1\n",
      " 1\n",
      " 2\n"
     ]
    },
    {
     "name": "stdout",
     "output_type": "stream",
     "text": [
      "No\n"
     ]
    }
   ],
   "source": [
    "\n",
    "a = [] # to build up the sorted c, keeps counts of recurrences\n",
    "b = [] # keeps if a certain indx exists, memoization\n",
    "c = [] # the numbers\n",
    "\n",
    "def sa(num, rmindx):\n",
    "    if(num<0): return False\n",
    "    if(num==0) or (b[num]==True and a[num]>0):\n",
    "        return True\n",
    "    \n",
    "    for indx in range(1, rmindx):\n",
    "        if(a[indx]>0):\n",
    "            a[indx] -= 1\n",
    "            r = sa(num-indx, rmindx)\n",
    "            a[indx] += 1\n",
    "            \n",
    "            if r==True:\n",
    "                return True\n",
    "    \n",
    "    return False\n",
    "\n",
    "\n",
    "t = int(input())\n",
    "for _ in range(t):\n",
    "    n = int(input())\n",
    "    c = list(map(lambda x: int(x), input().strip().split(' ')))\n",
    "    maxc = max(c)\n",
    "    a = [0 for _ in range(maxc+1)]\n",
    "    for _ in c:\n",
    "        a[_] += 1\n",
    "    c=[]\n",
    "    for _ in range(maxc+1):\n",
    "        if a[_] > 0:\n",
    "            [c.append(_) for __ in range(a[_])]\n",
    "    \n",
    "    # at this point c is sorted and a has number of recurrences\n",
    "    \n",
    "    if(c[0]!=1):\n",
    "        print('No')\n",
    "        continue\n",
    "    b = [False for _ in range(maxc+1)]\n",
    "    b[1] = True\n",
    "    r = True\n",
    "    previous_num = 1\n",
    "    for num in c[1:]:\n",
    "        if(sa(num, previous_num+1)):\n",
    "            b[num] = True\n",
    "        else:\n",
    "            r = False\n",
    "            break\n",
    "        previous_num = num\n",
    "    \n",
    "    if(r):\n",
    "        print('YES')\n",
    "    else:\n",
    "        print('NO')\n",
    "\n",
    "    "
   ]
  }
 ],
 "metadata": {
  "kernelspec": {
   "display_name": "Python 3 (ipykernel)",
   "language": "python",
   "name": "python3"
  },
  "language_info": {
   "codemirror_mode": {
    "name": "ipython",
    "version": 3
   },
   "file_extension": ".py",
   "mimetype": "text/x-python",
   "name": "python",
   "nbconvert_exporter": "python",
   "pygments_lexer": "ipython3",
   "version": "3.9.13"
  }
 },
 "nbformat": 4,
 "nbformat_minor": 5
}
