{
 "cells": [
  {
   "cell_type": "markdown",
   "id": "45e44eb6",
   "metadata": {},
   "source": [
    "# Introduction to Neural Network: Forward Propagation"
   ]
  },
  {
   "cell_type": "markdown",
   "id": "a3637945",
   "metadata": {},
   "source": [
    "## Step 1: Prediction"
   ]
  },
  {
   "cell_type": "markdown",
   "id": "53424783",
   "metadata": {},
   "source": [
    "### A simple neural network making a prediction"
   ]
  },
  {
   "cell_type": "markdown",
   "id": "4f4d0567",
   "metadata": {},
   "source": [
    "#### 1: An empty network"
   ]
  },
  {
   "cell_type": "code",
   "execution_count": 4,
   "id": "9d8ae5c7",
   "metadata": {},
   "outputs": [],
   "source": [
    "def neural_network(input, weight):\n",
    "    prediction = input*weight # multiplying the input by weight\n",
    "    return prediction\n"
   ]
  },
  {
   "cell_type": "markdown",
   "id": "e8012519",
   "metadata": {},
   "source": [
    "#### 2: Inserting one input datapoint"
   ]
  },
  {
   "cell_type": "code",
   "execution_count": 5,
   "id": "25b4b49e",
   "metadata": {},
   "outputs": [
    {
     "name": "stdout",
     "output_type": "stream",
     "text": [
      "0.8500000000000001\n"
     ]
    }
   ],
   "source": [
    "weight = 0.1\n",
    "number_of_toes = [8.5, 9.5, 10, 9]\n",
    "input = number_of_toes[0]\n",
    "pred = neural_network(input, weight) # depositing the prediction\n",
    "print(pred)"
   ]
  },
  {
   "cell_type": "markdown",
   "id": "4dd06bb9",
   "metadata": {},
   "source": [
    "## Making a prediction with multiple inputs\n",
    "### Neural networks can combine intelligence from multiple datapoints"
   ]
  },
  {
   "cell_type": "markdown",
   "id": "4404e84f",
   "metadata": {},
   "source": [
    "#### 1: An empty network with multiple inputs"
   ]
  },
  {
   "cell_type": "code",
   "execution_count": 30,
   "id": "4b5f2831",
   "metadata": {},
   "outputs": [],
   "source": [
    "# 3: Performing a weighted sum of inputs\n",
    "def w_sum(a,b):\n",
    "    assert(len(a) == len(b))\n",
    "    output = 0\n",
    "    for i in range(len(a)):\n",
    "        output += (a[i]*b[i])\n",
    "    return round(output, 3)\n",
    "\n",
    "weights = [0.1, 0.2, 0]\n",
    "def neural_network(input, weights):\n",
    "    pred = w_sum(input, weights)\n",
    "    return pred\n"
   ]
  },
  {
   "cell_type": "markdown",
   "id": "a572714f",
   "metadata": {},
   "source": [
    "#### 2: Inserting multiple input datapoints"
   ]
  },
  {
   "cell_type": "code",
   "execution_count": 31,
   "id": "edd26860",
   "metadata": {},
   "outputs": [
    {
     "name": "stdout",
     "output_type": "stream",
     "text": [
      "0.98\n"
     ]
    }
   ],
   "source": [
    "# This daaset is the current status at the beginning of each game \n",
    "# for the first four games in a season:\n",
    "# toes = current average number of toes per player\n",
    "# wlrec = current games won (percent)\n",
    "# nfans = fan count (in millioins).\n",
    "toes = [8.5, 9.5, 9.9, 9.0]\n",
    "wlrec = [0.65, 0.8, 0.8, 0.9]\n",
    "nfans = [1.2, 1.3, 0.5, 1.0]\n",
    "\n",
    "input = [toes[0], wlrec[0], nfans[0]] # Input corresponds to every entry \n",
    "                                      # for the first game of the season\n",
    "\n",
    "pred = neural_network(input, weights) # 4: Depositing teh prediction\n",
    "print(round(pred, 2))"
   ]
  },
  {
   "cell_type": "markdown",
   "id": "e96678a9",
   "metadata": {},
   "source": [
    "### Challenge: Vector math"
   ]
  },
  {
   "cell_type": "code",
   "execution_count": 12,
   "id": "0b771a66",
   "metadata": {},
   "outputs": [],
   "source": [
    "def elementwise_multiplication(vec_a, vec_b):\n",
    "    assert len(vec_a) == len(vec_b)\n",
    "    return list(map(lambda t: t[0]*t[1], zip(vec_a, vec_b)))\n",
    "\n",
    "def elementwise_addition(vec_a, vec_b):\n",
    "    assert len(vec_a) == len(vec_b)\n",
    "    return list(map(lambda t: t[0]+t[1], zip(vec_a, vec_b)))\n",
    "\n",
    "def vector_sum(vec_a):\n",
    "    return sum(vec_a)\n",
    "\n",
    "def vector_average(vec_a):\n",
    "    return vector_sum(vec_a)/len(vec_a)\n"
   ]
  },
  {
   "cell_type": "code",
   "execution_count": 15,
   "id": "a2db316c",
   "metadata": {},
   "outputs": [
    {
     "name": "stdout",
     "output_type": "stream",
     "text": [
      "0.9800000000000001\n"
     ]
    }
   ],
   "source": [
    "def dot_product(vec_a, vec_b):\n",
    "    return vector_sum(elementwise_multiplication(vec_a, vec_b))\n",
    "\n",
    "print(dot_product([8.5, 0.65, 1.2], [0.1, 0.2, 0]))"
   ]
  },
  {
   "cell_type": "markdown",
   "id": "04f1b32d",
   "metadata": {},
   "source": [
    "### Numpy Code"
   ]
  },
  {
   "cell_type": "code",
   "execution_count": 17,
   "id": "7fca78f4",
   "metadata": {},
   "outputs": [
    {
     "name": "stdout",
     "output_type": "stream",
     "text": [
      "0.9800000000000001\n"
     ]
    }
   ],
   "source": [
    "import numpy as np\n",
    "weights = np.array([0.1, 0.2, 0])\n",
    "def neural_network(input, weights):\n",
    "    pred = input.dot(weights)\n",
    "    return pred\n",
    "\n",
    "toes = np.array([8.5, 9.5, 9.9, 9.0])\n",
    "wlrec = np.array([0.65, 0.8, 0.8, 0.9])\n",
    "nfans = np.array([1.2, 1.3, 0.5, 1.0])\n",
    "\n",
    "input = np.array([toes[0], wlrec[0], nfans[0]])\n",
    "pred = neural_network(input, weights)\n",
    "print(pred)"
   ]
  },
  {
   "cell_type": "markdown",
   "id": "8ca79c73",
   "metadata": {},
   "source": [
    "## Making a prediction with multiple outputs\n",
    "### Neural networks can also make multiple predictions using only a single input"
   ]
  },
  {
   "cell_type": "code",
   "execution_count": 21,
   "id": "e3af02ee",
   "metadata": {},
   "outputs": [
    {
     "name": "stdout",
     "output_type": "stream",
     "text": [
      "[0.195, 0.13, 0.585]\n"
     ]
    }
   ],
   "source": [
    "def ele_mul(scalar_val, vector):\n",
    "    return list(map(lambda v: round(v*scalar_val, 3), vector))\n",
    "\n",
    "# an empty network with multiple outputs\n",
    "weights = [0.3, 0.2, 0.9]\n",
    "def neural_network(input, weights):\n",
    "    pred = ele_mul(input, weights)\n",
    "    return pred\n",
    "\n",
    "# inserting one input datapoint\n",
    "wlrec = [0.65, 0.8, 0.8, 0.9]\n",
    "input = wlrec[0]\n",
    "pred = neural_network(input, weights)\n",
    "print(pred)"
   ]
  },
  {
   "cell_type": "markdown",
   "id": "08809788",
   "metadata": {},
   "source": [
    "## Predicting with multiple inputs and outputs\n",
    "### Neural networks can predict multiple outputs given multiple inputs"
   ]
  },
  {
   "cell_type": "code",
   "execution_count": 42,
   "id": "107e9005",
   "metadata": {},
   "outputs": [
    {
     "name": "stdout",
     "output_type": "stream",
     "text": [
      "[0.555, 0.98, 0.965]\n"
     ]
    }
   ],
   "source": [
    "def vect_mat_mul(vec, matrix):\n",
    "    assert(len(vec) == len(matrix))\n",
    "    outputs = [9 for _ in matrix]\n",
    "    for i in range(len(matrix)):\n",
    "        osum = 0\n",
    "        for j in range(len(vec)):\n",
    "            osum += round(vec[j]*matrix[i][j], 3)\n",
    "        # outputs[i] = w_sum(vec, matrix[i])\n",
    "        outputs[i] = osum\n",
    "    return outputs\n",
    "\n",
    "# an empty network with multiple inputs and outputs\n",
    "weights = [\n",
    "    # toes % win # fans\n",
    "    [0.1, 0.1, -0.3], # hurt?\n",
    "    [0.1, 0.2, 0.0], # win?\n",
    "    [0.0, 1.3, 0.1] # sad?\n",
    "]\n",
    "def neural_network(input, weights):\n",
    "    pred = vect_mat_mul(input, weights)\n",
    "    return pred\n",
    "\n",
    "toes = [8.5, 9.5, 9.9, 9.0]\n",
    "wlrec = [0.65, 0.8, 0.8, 0.9]\n",
    "nfans = [1.2, 1.3, 0.5, 1.0]\n",
    "\n",
    "input = [toes[0], wlrec[0], nfans[0]] \n",
    "        # 8.5, 0.65, 1.2\n",
    "\n",
    "pred = neural_network(input, weights)\n",
    "print(pred)"
   ]
  },
  {
   "cell_type": "markdown",
   "id": "574bdb0a",
   "metadata": {},
   "source": [
    "## Predicting on Predictions\n",
    "### Neural networks can be stacked!"
   ]
  },
  {
   "cell_type": "code",
   "execution_count": 55,
   "id": "f220fd37",
   "metadata": {},
   "outputs": [
    {
     "name": "stdout",
     "output_type": "stream",
     "text": [
      "[0.213, 0.145, 0.506]\n"
     ]
    }
   ],
   "source": [
    "import numpy as np\n",
    "# an empty network with multiple inputs and outputs\n",
    "ih_wgt = np.array([\n",
    "    # toes % win # fans\n",
    "    [0.1, 0.2, -0.1], # hid[0]\n",
    "    [-0.1, 0.1, 0.9], # hid[1]\n",
    "    [0.1, 0.4, 0.1]   # hid[2]\n",
    "]).transpose()\n",
    "\n",
    "hp_wgt = np.array([\n",
    "    # hid[0] hid[1] hid[2]\n",
    "    [0.3, 1.1, -0.3], # hurt?\n",
    "    [0.1, 0.2, 0.0], # win?\n",
    "    [0.0, 1.3, 0.1]  # sad?\n",
    "]).transpose()\n",
    "\n",
    "weights = [ih_wgt, hp_wgt]\n",
    "\n",
    "def neural_network(input, weights):\n",
    "    hid = vect_mat_mul(input, weights[0])\n",
    "    pred = vect_mat_mul(hid, weights[1])\n",
    "    return pred\n",
    "\n",
    "\n",
    "def neural_network_np(input, weights):\n",
    "    hid = input.dot(weights[0])\n",
    "    pred = hid.dot(weights[1])\n",
    "    return pred\n",
    "\n",
    "# predicting the hidden layer\n",
    "toes = np.array([8.5, 9.5, 9.9, 9.0])\n",
    "wlrec = np.array([0.65, 0.8, 0.8, 0.9])\n",
    "nfans = np.array([1.2, 1.3, 0.5, 1.0])\n",
    "\n",
    "input = np.array([toes[0], wlrec[0], nfans[0]])\n",
    "\n",
    "pred = neural_network_np(input, weights)\n",
    "pred = list(map(lambda x: round(x, 3), pred))\n",
    "print(pred)"
   ]
  },
  {
   "cell_type": "code",
   "execution_count": null,
   "id": "7e50fea5",
   "metadata": {},
   "outputs": [],
   "source": [
    "    "
   ]
  }
 ],
 "metadata": {
  "kernelspec": {
   "display_name": "Python 3 (ipykernel)",
   "language": "python",
   "name": "python3"
  },
  "language_info": {
   "codemirror_mode": {
    "name": "ipython",
    "version": 3
   },
   "file_extension": ".py",
   "mimetype": "text/x-python",
   "name": "python",
   "nbconvert_exporter": "python",
   "pygments_lexer": "ipython3",
   "version": "3.9.13"
  }
 },
 "nbformat": 4,
 "nbformat_minor": 5
}
