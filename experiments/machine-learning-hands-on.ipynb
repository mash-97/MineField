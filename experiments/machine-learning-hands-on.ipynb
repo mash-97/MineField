{
 "cells": [
  {
   "cell_type": "markdown",
   "id": "54874812",
   "metadata": {},
   "source": [
    "# Linear Regression"
   ]
  },
  {
   "cell_type": "code",
   "execution_count": 28,
   "id": "35c93bed",
   "metadata": {},
   "outputs": [],
   "source": [
    "ROUND_LEN = 6\n",
    "def linreg(X, Y):\n",
    "    ym = round(sum(Y)/len(Y), ROUND_LEN)\n",
    "    xm = round(sum(X)/len(X), ROUND_LEN)\n",
    "    xym = round(sum(map(lambda x: x[0]*x[1], zip(X, Y)))/len(Y), ROUND_LEN)\n",
    "    xxm = round(sum(map(lambda x: x*x, X))/len(X), ROUND_LEN)\n",
    "    \n",
    "    m = round((xm*ym - xym)/(xm*xm - xxm), ROUND_LEN)\n",
    "    c = round(ym - m*xm, ROUND_LEN)\n",
    "    print(f\"m: {m}, c: {c}\")\n",
    "    \n",
    "    return lambda x: round(m*x+c, ROUND_LEN)\n",
    "\n",
    "def linregn(X, Y):\n",
    "    data = dict(zip(X, Y))\n",
    "    X = sorted(X)\n",
    "    Y = [data[_] for _ in X]\n",
    "    \n",
    "\n",
    "    diff_rates = []\n",
    "    prevx = 0\n",
    "    prevy = 0\n",
    "    for indx in range(len(X)):\n",
    "        diff_x = X[indx]-prevx\n",
    "        prevx = X[indx]\n",
    "        \n",
    "        diff_y = Y[indx]-prevy\n",
    "        prevy = Y[indx]\n",
    "        \n",
    "        diff_rates.append(diff_y/diff_x)\n",
    "    \n",
    "    diff_ratem = sum(diff_rates)/len(diff_rates)\n",
    "    \n",
    "    errors = []\n",
    "    prevx = 0\n",
    "    prevy = 0\n",
    "    for indx in range(len(X)):\n",
    "        newy = diff_ratem*X[indx]\n",
    "        errors.append(Y[indx]-newy)\n",
    "    \n",
    "    errorm = sum(errors)/len(errors)\n",
    "    \n",
    "    return lambda x: round(diff_ratem*x+errorm, ROUND_LEN)\n",
    "    \n",
    "    \n",
    "def rsv(X, Y, lr):\n",
    "    ym = round(sum(Y)/len(Y), ROUND_LEN)\n",
    "    lrym = round(sum(map(lambda x: (x-ym)**2, [lr(_) for _ in X]))/len(Y), ROUND_LEN)\n",
    "    yym = round(sum(map(lambda x: (x-ym)**2, Y))/len(Y), ROUND_LEN)\n",
    "    _rsv = round((lrym/yym)*100, 2)\n",
    "    \n",
    "    return f'{_rsv}%'"
   ]
  },
  {
   "cell_type": "code",
   "execution_count": 26,
   "id": "9b102c5d",
   "metadata": {},
   "outputs": [],
   "source": [
    "X = [6, 8, 12, 14, 18]\n",
    "Y = [350, 775, 1150, 1395, 1675]"
   ]
  },
  {
   "cell_type": "code",
   "execution_count": 27,
   "id": "d7b446f9",
   "metadata": {
    "scrolled": true
   },
   "outputs": [
    {
     "name": "stdout",
     "output_type": "stream",
     "text": [
      "m: 107.214912, c: -174.692979\n",
      "x: 17, y: 1647.960525\n",
      "96.76%\n"
     ]
    }
   ],
   "source": [
    "y = linreg(X, Y)\n",
    "print(f\"x: 17, y: {y(17)}\")\n",
    "print(rsv(X, Y, y))"
   ]
  },
  {
   "cell_type": "code",
   "execution_count": 29,
   "id": "8091ac75",
   "metadata": {},
   "outputs": [
    {
     "name": "stdout",
     "output_type": "stream",
     "text": [
      "x: 17, y: 1670.65\n",
      "104.49%\n"
     ]
    }
   ],
   "source": [
    "y = linregn(X, Y)\n",
    "print(f\"x: 17, y: {y(17)}\")\n",
    "print(rsv(X, Y, y))"
   ]
  }
 ],
 "metadata": {
  "kernelspec": {
   "display_name": "Python 3 (ipykernel)",
   "language": "python",
   "name": "python3"
  },
  "language_info": {
   "codemirror_mode": {
    "name": "ipython",
    "version": 3
   },
   "file_extension": ".py",
   "mimetype": "text/x-python",
   "name": "python",
   "nbconvert_exporter": "python",
   "pygments_lexer": "ipython3",
   "version": "3.10.12"
  }
 },
 "nbformat": 4,
 "nbformat_minor": 5
}
